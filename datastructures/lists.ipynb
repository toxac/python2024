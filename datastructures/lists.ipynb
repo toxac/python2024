{
 "cells": [
  {
   "cell_type": "markdown",
   "metadata": {},
   "source": []
  },
  {
   "cell_type": "markdown",
   "metadata": {},
   "source": [
    "# Key Data Structures in Python\n",
    "\n",
    "- List: Mutable Sequence of elements\n",
    "- Tuple: Immutable Sequence of elements\n",
    "- Dictionary: Unordered collection of key-value pairs\n",
    "- Set: Unordered collection of unique elements"
   ]
  },
  {
   "cell_type": "markdown",
   "metadata": {},
   "source": [
    "## Lists\n",
    "In python lists are used frequently to store and manipulate sequential data. They are similar to array in other languages but in python list elements dont need to be of same datatype."
   ]
  },
  {
   "cell_type": "code",
   "execution_count": 1,
   "metadata": {},
   "outputs": [
    {
     "name": "stdout",
     "output_type": "stream",
     "text": [
      "['Python', 'R', 'C++', 'Java']\n"
     ]
    }
   ],
   "source": [
    "# simple list\n",
    "languages = ['Python', 'R', 'C++', 'Java']\n",
    "print(languages)\n"
   ]
  },
  {
   "cell_type": "code",
   "execution_count": 2,
   "metadata": {},
   "outputs": [
    {
     "data": {
      "text/plain": [
       "'Python'"
      ]
     },
     "execution_count": 2,
     "metadata": {},
     "output_type": "execute_result"
    }
   ],
   "source": [
    "# getting specific element using index\n",
    "# lists are indexed from 0\n",
    "languages[0]"
   ]
  },
  {
   "cell_type": "markdown",
   "metadata": {},
   "source": [
    "## Key operations\n",
    "1. Creating a list\n",
    "2. Accessing elements\n",
    "3. Length and Size\n",
    "4. Adding new elements\n",
    "5. Removing Elemnts\n",
    "6. Checking if elements exists\n",
    "7. Slices\n",
    "8. Sorting\n",
    "9. Iterating over list elements\n",
    "10. List comprehension"
   ]
  },
  {
   "cell_type": "markdown",
   "metadata": {},
   "source": []
  }
 ],
 "metadata": {
  "kernelspec": {
   "display_name": "Python 3",
   "language": "python",
   "name": "python3"
  },
  "language_info": {
   "codemirror_mode": {
    "name": "ipython",
    "version": 3
   },
   "file_extension": ".py",
   "mimetype": "text/x-python",
   "name": "python",
   "nbconvert_exporter": "python",
   "pygments_lexer": "ipython3",
   "version": "3.10.8"
  }
 },
 "nbformat": 4,
 "nbformat_minor": 2
}
