{
 "cells": [
  {
   "cell_type": "markdown",
   "metadata": {},
   "source": []
  },
  {
   "cell_type": "markdown",
   "metadata": {},
   "source": [
    "# Key Data Structures in Python\n",
    "\n",
    "- List: Mutable Sequence of elements\n",
    "- Tuple: Immutable Sequence of elements\n",
    "- Dictionary: Unordered collection of key-value pairs\n",
    "- Set: Unordered collection of unique elements"
   ]
  },
  {
   "cell_type": "markdown",
   "metadata": {},
   "source": [
    "## Lists\n",
    "In python lists are used frequently to store and manipulate sequential data. They are similar to array in other languages but in python list elements dont need to be of same datatype."
   ]
  },
  {
   "cell_type": "code",
   "execution_count": 6,
   "metadata": {},
   "outputs": [
    {
     "name": "stdout",
     "output_type": "stream",
     "text": [
      "['Python', 'R', 'C++', 'Java']\n"
     ]
    }
   ],
   "source": [
    "# simple list\n",
    "languages = ['Python', 'R', 'C++', 'Java']\n",
    "print(languages)\n"
   ]
  },
  {
   "cell_type": "code",
   "execution_count": 7,
   "metadata": {},
   "outputs": [
    {
     "data": {
      "text/plain": [
       "'Python'"
      ]
     },
     "execution_count": 7,
     "metadata": {},
     "output_type": "execute_result"
    }
   ],
   "source": [
    "# getting specific element using index\n",
    "# lists are indexed from 0\n",
    "languages[0]"
   ]
  },
  {
   "cell_type": "markdown",
   "metadata": {},
   "source": [
    "## Key operations\n",
    "1. Creating a list\n",
    "2. Accessing elements\n",
    "3. Length and Size\n",
    "4. Adding new elements\n",
    "5. Removing Elemnts\n",
    "6. Checking if elements exists\n",
    "7. Slices\n",
    "8. Sorting\n",
    "9. Iterating over list elements\n",
    "10. List comprehension"
   ]
  },
  {
   "cell_type": "markdown",
   "metadata": {},
   "source": [
    "## 1. Creating a list\n",
    "- Using square brackets\n",
    "- Using List constructor\n",
    "\n",
    "### When to use a construtor over square brackets\n",
    "- Copying one list to another - shallow copy\n",
    "- Convert a lazy iterable into a list\n",
    "- Converting any iterable into a list\n",
    "- List creation factory"
   ]
  },
  {
   "cell_type": "code",
   "execution_count": 8,
   "metadata": {},
   "outputs": [
    {
     "name": "stdout",
     "output_type": "stream",
     "text": [
      "['bear', 'python3.6', 'peacock', 'kangaroo', 'whale', 'platypus']\n",
      "['falcon', 'parrot', 'penguin', 'whale', 'dolphin']\n"
     ]
    }
   ],
   "source": [
    "# Creating a list using square brackets\n",
    "animals = ['bear', 'python3.6', 'peacock', 'kangaroo', 'whale', 'platypus']\n",
    "# Creating list using list constructor, the elements needs to be in brackets (iterable)\n",
    "birds = list(('falcon', 'parrot', 'penguin', 'whale', 'dolphin'))\n",
    "\n",
    "print(animals)\n",
    "print(birds)"
   ]
  },
  {
   "cell_type": "code",
   "execution_count": 12,
   "metadata": {},
   "outputs": [
    {
     "name": "stdout",
     "output_type": "stream",
     "text": [
      "['bear', 'python3.6', 'peacock', 'kangaroo', 'whale', 'platypus', 'dog', 'cat', 'dog', 'cat', 'dog']\n",
      "['bear', 'python3.6', 'peacock', 'kangaroo', 'whale', 'platypus', 'dog', 'cat', 'dog', 'cat', 'dog']\n"
     ]
    }
   ],
   "source": [
    "# Shallow copy\n",
    "\n",
    "# this does not copy the list. my_animals references animals\n",
    "my_animals = animals\n",
    "\n",
    "animals.append('dog') # my_animals will have dog in it\n",
    "print(my_animals)\n",
    "\n",
    "# Copying list using list.copy() method\n",
    "my_animals = animals.copy()\n",
    "animals.append('cat') # my_animals will not have cat in it\n",
    "print(my_animals)\n",
    "\n",
    "\n",
    "# copying list using list constructor\n",
    "my_animals = list(animals) # same as animals.copy()"
   ]
  },
  {
   "cell_type": "code",
   "execution_count": 10,
   "metadata": {},
   "outputs": [
    {
     "name": "stdout",
     "output_type": "stream",
     "text": [
      "<class 'tuple'>\n",
      "<class 'list'>\n"
     ]
    }
   ],
   "source": [
    "# converting an iterable into a list\n",
    "colors = ('red', 'green', 'blue') # Tuple\n",
    "list_of_colors = list(colors) # List\n",
    "\n",
    "print(type(colors))\n",
    "print(type(list_of_colors))"
   ]
  },
  {
   "cell_type": "code",
   "execution_count": 1,
   "metadata": {},
   "outputs": [
    {
     "ename": "SyntaxError",
     "evalue": "invalid syntax (3582824742.py, line 1)",
     "output_type": "error",
     "traceback": [
      "\u001b[0;36m  Cell \u001b[0;32mIn[1], line 1\u001b[0;36m\u001b[0m\n\u001b[0;31m    import Stack from adt.stack\u001b[0m\n\u001b[0m                 ^\u001b[0m\n\u001b[0;31mSyntaxError\u001b[0m\u001b[0;31m:\u001b[0m invalid syntax\n"
     ]
    }
   ],
   "source": [
    "\n"
   ]
  },
  {
   "cell_type": "code",
   "execution_count": null,
   "metadata": {},
   "outputs": [],
   "source": []
  }
 ],
 "metadata": {
  "kernelspec": {
   "display_name": "Python 3",
   "language": "python",
   "name": "python3"
  },
  "language_info": {
   "codemirror_mode": {
    "name": "ipython",
    "version": 3
   },
   "file_extension": ".py",
   "mimetype": "text/x-python",
   "name": "python",
   "nbconvert_exporter": "python",
   "pygments_lexer": "ipython3",
   "version": "3.10.8"
  }
 },
 "nbformat": 4,
 "nbformat_minor": 2
}
