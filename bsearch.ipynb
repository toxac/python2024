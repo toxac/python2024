{
 "cells": [
  {
   "cell_type": "code",
   "execution_count": null,
   "metadata": {},
   "outputs": [],
   "source": [
    "from random import randint\n",
    "def bsearch_game(val):\n",
    "    tries = 0\n",
    "    found = False\n",
    "    guess = randint(0, val)\n",
    "    if guess == val:\n",
    "        found = True\n",
    "    elif guess == 0:\n",
    "        found = True\n",
    "    else:\n",
    "        low, high = 0,  val\n",
    "        mid = ((high-low)//2)\n",
    "        while not found:\n",
    "            tries += 1\n",
    "            if guess == mid:\n",
    "                found = True\n",
    "            elif guess > mid:\n",
    "                low = mid\n",
    "                mid = ((high-low)//2) + mid\n",
    "            else:\n",
    "                high = mid\n",
    "                mid = ((high-low)//2) + low\n",
    "    return tries\n",
    "\n",
    "tries = []\n",
    "values = []\n",
    "for i in range(0,100000,10):\n",
    "    tries.append(bsearch_game(i))\n",
    "    values.append(i)"
   ]
  },
  {
   "cell_type": "code",
   "execution_count": null,
   "metadata": {},
   "outputs": [],
   "source": [
    "\n",
    "\n"
   ]
  }
 ],
 "metadata": {
  "kernelspec": {
   "display_name": "Python 3",
   "language": "python",
   "name": "python3"
  },
  "language_info": {
   "codemirror_mode": {
    "name": "ipython",
    "version": 3
   },
   "file_extension": ".py",
   "mimetype": "text/x-python",
   "name": "python",
   "nbconvert_exporter": "python",
   "pygments_lexer": "ipython3",
   "version": "3.10.12"
  }
 },
 "nbformat": 4,
 "nbformat_minor": 2
}
